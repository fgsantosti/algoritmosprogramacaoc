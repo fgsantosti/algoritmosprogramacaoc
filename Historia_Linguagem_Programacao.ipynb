{
  "nbformat": 4,
  "nbformat_minor": 0,
  "metadata": {
    "colab": {
      "provenance": [],
      "authorship_tag": "ABX9TyP7W8SnLvF7Aq7BptGVSk3a",
      "include_colab_link": true
    },
    "kernelspec": {
      "name": "python3",
      "display_name": "Python 3"
    },
    "language_info": {
      "name": "python"
    }
  },
  "cells": [
    {
      "cell_type": "markdown",
      "metadata": {
        "id": "view-in-github",
        "colab_type": "text"
      },
      "source": [
        "<a href=\"https://colab.research.google.com/github/fgsantosti/algoritmosprogramacaoc/blob/main/Historia_Linguagem_Programacao.ipynb\" target=\"_parent\"><img src=\"https://colab.research.google.com/assets/colab-badge.svg\" alt=\"Open In Colab\"/></a>"
      ]
    },
    {
      "cell_type": "markdown",
      "source": [
        "## Fortran (1957)\n",
        "\n",
        "- **Criador:** IBM (International Business Machines Corporation)\n",
        "- **Desenvolvedores Principais:** John Backus, Gene Amdahl, e outros.\n",
        "- **Origem do Nome:** \"Formula Translation\" - projetada para facilitar a programação científica.\n",
        "- **Características Principais:**\n",
        "  - Primeira linguagem de alto nível, permitindo a expressão de algoritmos em termos mais próximos da linguagem humana.\n",
        "  - Foco inicial em cálculos científicos e numéricos.\n",
        "- **Relevância Histórica:**\n",
        "  - Amplamente utilizada em pesquisa e engenharia.\n",
        "  - Facilitou a programação para cientistas e engenheiros.\n",
        "- **Exemplos de Uso:**\n",
        "  - Simulações climáticas, modelagem física, análises numéricas.\n",
        "  - Ainda presente em aplicações científicas e de engenharia.\n",
        "- **Legado:**\n",
        "  - Influenciou o desenvolvimento de outras linguagens.\n",
        "  - Versões posteriores continuaram a evoluir para atender às demandas computacionais.\n",
        "\n",
        "Este slide destaca a importância histórica do Fortran como a primeira linguagem de alto nível, enfatizando sua aplicação em cálculos científicos e engenharia, além de mencionar seu legado e impacto nas linguagens subsequentes."
      ],
      "metadata": {
        "id": "fJfAGHjw8nWj"
      }
    },
    {
      "cell_type": "markdown",
      "source": [
        "## COBOL (1959)\n",
        "\n",
        "- **Criadores:** Comitê CODASYL (Conference on Data Systems Languages)\n",
        "- **Figuras-Chave:** Grace Hopper, Jean E. Sammet, e outros.\n",
        "- **Significado do Nome:** \"COmmon Business-Oriented Language.\"\n",
        "- **Objetivo Inicial:**\n",
        "  - Desenvolvida para processamento de negócios e finanças.\n",
        "  - Padronização para facilitar a portabilidade de programas entre diferentes sistemas.\n",
        "- **Relevância Histórica:**\n",
        "  - Revolucionou o processamento de dados em setores financeiros e empresariais.\n",
        "  - Facilitou a escrita de programas compreensíveis por não programadores.\n",
        "- **Exemplos de Uso:**\n",
        "  - Sistemas bancários e financeiros.\n",
        "  - Aplicações em empresas e governos para processamento de dados empresariais.\n",
        "- **Legado:**\n",
        "  - Ainda em uso em sistemas legados.\n",
        "  - Influenciou linguagens modernas em termos de estrutura e legibilidade.\n",
        "- **Curiosidade:**\n",
        "  - Uma linguagem duradoura, mantendo compatibilidade com versões antigas.\n",
        "\n",
        "Este slide destaca a relevância histórica do COBOL na automação de processos empresariais, seu papel em setores financeiros e a continuidade de sua influência até os dias atuais."
      ],
      "metadata": {
        "id": "Ag5IBLfM95Qq"
      }
    },
    {
      "cell_type": "markdown",
      "source": [
        "## Lisp (1958)\n",
        "\n",
        "- **Criador:** John McCarthy\n",
        "- **Objetivo Inicial:** \"List Processing\" - Desenvolvida para pesquisa em inteligência artificial.\n",
        "- **Características Principais:**\n",
        "  - A primeira linguagem de programação funcional.\n",
        "  - Manipulação flexível de listas como estrutura de dados central.\n",
        "- **Relevância Histórica:**\n",
        "  - Contribuiu significativamente para o campo da inteligência artificial.\n",
        "  - Sintaxe simples e poderosa para manipulação de dados.\n",
        "- **Exemplos de Uso:**\n",
        "  - Amplamente adotada em pesquisa em inteligência artificial.\n",
        "  - Utilizada em projetos acadêmicos e experimentos.\n",
        "- **Legado:**\n",
        "  - Influenciou o design de muitas linguagens modernas, como Python e JavaScript.\n",
        "  - Ainda é utilizada em algumas áreas específicas, especialmente em pesquisa.\n",
        "- **Curiosidade:**\n",
        "  - Enfatiza a recursividade e a expressividade na programação.\n",
        "  - Suporte robusto para simbolismo e manipulação simbólica.\n",
        "\n",
        "Este slide destaca a natureza inovadora do Lisp como a primeira linguagem funcional, seu impacto na inteligência artificial e a continuidade de sua influência em linguagens contemporâneas."
      ],
      "metadata": {
        "id": "WIHx302PhECl"
      }
    },
    {
      "cell_type": "markdown",
      "source": [
        "## ALGOL (1958)\n",
        "\n",
        "- **Criadores:** Comitê ALGOL (ALGOrithmic Language)\n",
        "- **Contribuidores Notáveis:** John Backus, Peter Naur, e outros.\n",
        "- **Objetivo Inicial:**\n",
        "  - Padronização de linguagens para facilitar a programação de algoritmos.\n",
        "  - Ênfase em clareza, portabilidade e eficiência.\n",
        "- **Características Principais:**\n",
        "  - Introduziu blocos aninhados e escopo léxico.\n",
        "  - Influenciou a sintaxe de muitas linguagens subsequentes.\n",
        "- **Relevância Histórica:**\n",
        "  - Estabeleceu padrões para o desenvolvimento de linguagens de programação.\n",
        "  - Inspirou várias linguagens, incluindo Pascal, C e Java.\n",
        "- **Exemplos de Uso:**\n",
        "  - Implementações iniciais utilizadas em pesquisa e desenvolvimento acadêmico.\n",
        "  - Desenvolvimento de compiladores e sistemas operacionais.\n",
        "- **Legado:**\n",
        "  - Contribuiu para a evolução da programação estruturada.\n",
        "  - Impacto duradouro nas linguagens de programação modernas.\n",
        "- **Curiosidade:**\n",
        "  - ALGOL 60 é a versão mais influente e amplamente reconhecida.\n",
        "\n",
        "Este slide destaca a importância do ALGOL na padronização e evolução de linguagens de programação, evidenciando seu impacto nas práticas de programação modernas."
      ],
      "metadata": {
        "id": "XJLE6NpEiK6R"
      }
    },
    {
      "cell_type": "markdown",
      "source": [
        "## BASIC (1964)\n",
        "\n",
        "- **Criadores:** John Kemeny e Thomas Kurtz no Dartmouth College.\n",
        "- **Significado do Nome:** \"Beginner's All-purpose Symbolic Instruction Code.\"\n",
        "- **Objetivo Inicial:**\n",
        "  - Desenvolvida para iniciantes em programação.\n",
        "  - Acesso fácil para estudantes não técnicos.\n",
        "- **Características Principais:**\n",
        "  - Sintaxe simples e fácil de aprender.\n",
        "  - Introdução à programação para não programadores.\n",
        "- **Relevância Histórica:**\n",
        "  - Popularizou a programação, especialmente em microcomputadores.\n",
        "  - Democratizou o acesso à computação.\n",
        "- **Exemplos de Uso:**\n",
        "  - Amplamente utilizado em microcomputadores como o Altair 8800.\n",
        "  - Base para diversas variações e interpretações ao longo dos anos.\n",
        "- **Legado:**\n",
        "  - Influenciou linguagens de programação modernas voltadas para educação.\n",
        "  - Introduziu muitos à lógica de programação de forma acessível.\n",
        "- **Curiosidade:**\n",
        "  - Marcou o início da programação pessoal.\n",
        "  - Inspirou outras linguagens, como Visual Basic.\n",
        "\n",
        "Este slide destaca a natureza acessível do BASIC e seu papel crucial na popularização da programação, especialmente entre não programadores e estudantes, contribuindo para a era da computação pessoal."
      ],
      "metadata": {
        "id": "kqT2JqPWiMkV"
      }
    },
    {
      "cell_type": "markdown",
      "source": [
        "## C (1972)\n",
        "\n",
        "- **Criador:** Dennis Ritchie no Bell Labs.\n",
        "- **Origem:**\n",
        "  - Desenvolvida como uma evolução da linguagem B.\n",
        "  - Desenvolvimento para a implementação do sistema operacional UNIX.\n",
        "- **Características Principais:**\n",
        "  - Linguagem de programação procedural e de baixo nível.\n",
        "  - Eficiente e portável, permitindo fácil manipulação de hardware.\n",
        "- **Relevância Histórica:**\n",
        "  - Base para muitas linguagens modernas, como C++, Java e C#.\n",
        "  - Amplamente utilizada em sistemas operacionais e desenvolvimento de software de sistemas.\n",
        "- **Exemplos de Uso:**\n",
        "  - Implementação do UNIX e grande parte do sistema operacional Linux.\n",
        "  - Desenvolvimento de drivers de hardware e sistemas embarcados.\n",
        "- **Legado:**\n",
        "  - Inspirou o desenvolvimento de linguagens subsequentes.\n",
        "  - Continua a ser essencial em programação de sistemas.\n",
        "- **Curiosidade:**\n",
        "  - Dennis Ritchie também contribuiu para o desenvolvimento da linguagem ALGOL W.\n",
        "\n",
        "Este slide destaca a importância do C como uma linguagem de programação fundamental que influenciou significativamente o desenvolvimento de muitas outras linguagens e é amplamente utilizada em programação de sistemas e sistemas operacionais."
      ],
      "metadata": {
        "id": "l7AJXSSDif75"
      }
    },
    {
      "cell_type": "markdown",
      "source": [
        "## Pascal (1970)\n",
        "\n",
        "- **Criador:** Niklaus Wirth, um cientista suíço.\n",
        "- **Objetivo Inicial:**\n",
        "  - Desenvolvida como linguagem de ensino e para promover boas práticas de programação.\n",
        "  - Ênfase em clareza e estrutura.\n",
        "- **Características Principais:**\n",
        "  - Projeto original para o ensino de programação estruturada.\n",
        "  - Tipagem forte e controle rigoroso de estruturas de dados.\n",
        "- **Relevância Histórica:**\n",
        "  - Contribuiu para o avanço do ensino de programação.\n",
        "  - Base para o desenvolvimento de outras linguagens.\n",
        "- **Exemplos de Uso:**\n",
        "  - Inicialmente utilizado para fins educacionais.\n",
        "  - Desenvolvimento de compiladores e sistemas embarcados.\n",
        "- **Legado:**\n",
        "  - Influenciou linguagens modernas como Ada e Delphi.\n",
        "  - Contribuição significativa para a programação estruturada.\n",
        "- **Curiosidade:**\n",
        "  - Nomeada em homenagem ao matemático Blaise Pascal.\n",
        "\n",
        "Este slide destaca o papel do Pascal como uma linguagem inicialmente destinada ao ensino de programação estruturada, seu impacto no desenvolvimento de outras linguagens e sua contribuição para a promoção de boas práticas de programação."
      ],
      "metadata": {
        "id": "BnrcouUCi-Wi"
      }
    },
    {
      "cell_type": "markdown",
      "source": [
        "## Ada (1983)\n",
        "\n",
        "- **Criadores:** Departamento de Defesa dos EUA, liderado por Jean Ichbiah.\n",
        "- **Nome em Homenagem:**\n",
        "  - Nomeada em homenagem a Ada Lovelace, considerada a primeira programadora.\n",
        "- **Objetivo Inicial:**\n",
        "  - Desenvolvida para sistemas críticos de defesa e aplicativos de missão.\n",
        "  - Busca por uma linguagem de programação segura e confiável.\n",
        "- **Características Principais:**\n",
        "  - Forte tipagem, verificação estática e ênfase em prevenção de erros.\n",
        "  - Projetada para suportar programação concorrente e sistemas complexos.\n",
        "- **Relevância Histórica:**\n",
        "  - Amplamente utilizada em sistemas militares e aeroespaciais.\n",
        "  - Estabeleceu padrões rigorosos para segurança e confiabilidade.\n",
        "- **Exemplos de Uso:**\n",
        "  - Sistemas de controle aéreo, aviônicos e sistemas críticos.\n",
        "  - Utilizada em ambientes onde a segurança é prioritária.\n",
        "- **Legado:**\n",
        "  - Influenciou a criação de linguagens modernas com foco em segurança.\n",
        "  - Padrões de design e práticas de programação robusta.\n",
        "- **Curiosidade:**\n",
        "  - Ada é a única linguagem de programação nomeada em homenagem a uma mulher.\n",
        "\n",
        "Este slide destaca a natureza específica da Ada, desenvolvida para aplicações militares críticas, sua ênfase em segurança e confiabilidade, além de seu legado na influência de práticas seguras de programação."
      ],
      "metadata": {
        "id": "IhcKAxTejmof"
      }
    },
    {
      "cell_type": "markdown",
      "source": [
        "## C++ (1983)\n",
        "\n",
        "- **Criador:** Bjarne Stroustrup\n",
        "- **Origem:**\n",
        "  - Extensão da linguagem C, com suporte à programação orientada a objetos.\n",
        "  - Desenvolvida no Bell Labs como uma evolução do C.\n",
        "- **Características Principais:**\n",
        "  - Introdução de conceitos de orientação a objetos, como classes e herança.\n",
        "  - Compatibilidade com C, permitindo a utilização de código pré-existente.\n",
        "- **Relevância Histórica:**\n",
        "  - Amplamente adotada em sistemas de grande escala e projetos complexos.\n",
        "  - Combina eficiência de C com recursos de programação orientada a objetos.\n",
        "- **Exemplos de Uso:**\n",
        "  - Desenvolvimento de sistemas operacionais, jogos e aplicativos de software complexos.\n",
        "  - Utilizada em aplicações de sistemas críticos e em diversas indústrias.\n",
        "- **Legado:**\n",
        "  - Inspirou linguagens subsequentes, como Java e C#.\n",
        "  - Continua sendo uma das linguagens mais utilizadas no desenvolvimento de software.\n",
        "- **Curiosidade:**\n",
        "  - O nome \"C++\" simboliza a evolução incremental a partir da linguagem C.\n",
        "\n",
        "Este slide destaca a evolução do C++ a partir do C, seu papel na popularização da programação orientada a objetos e sua contínua relevância em projetos de software complexos."
      ],
      "metadata": {
        "id": "GrDVds-Oj2lF"
      }
    },
    {
      "cell_type": "markdown",
      "source": [
        "## Python (1989)\n",
        "\n",
        "- **Criador:** Guido van Rossum\n",
        "- **Origem:**\n",
        "  - Desenvolvida como projeto de hobby por Guido van Rossum.\n",
        "  - Nome inspirado no grupo de comédia britânico Monty Python.\n",
        "- **Características Principais:**\n",
        "  - Sintaxe clara, legibilidade e ênfase na produtividade do desenvolvedor.\n",
        "  - Suporte a múltiplos paradigmas de programação (procedural, orientado a objetos, funcional).\n",
        "- **Relevância Histórica:**\n",
        "  - Amplamente utilizada em desenvolvimento web, automação e ciência de dados.\n",
        "  - Popular entre iniciantes e experientes devido à sua simplicidade e versatilidade.\n",
        "- **Exemplos de Uso:**\n",
        "  - Desenvolvimento web com frameworks como Django e Flask.\n",
        "  - Aplicações científicas e análise de dados com bibliotecas como NumPy e Pandas.\n",
        "- **Legado:**\n",
        "  - Crescimento constante de popularidade, tornando-se uma das linguagens mais usadas.\n",
        "  - Integrada em tecnologias emergentes, como aprendizado de máquina e automação.\n",
        "- **Curiosidade:**\n",
        "  - Comunidade ativa e vasta biblioteca padrão, contribuindo para sua versatilidade.\n",
        "\n",
        "Este slide destaca o desenvolvimento do Python, suas características distintivas, ampla adoção em diversos domínios e seu papel crucial na facilitação da programação para uma ampla gama de usuários."
      ],
      "metadata": {
        "id": "N-WbXB19ke9A"
      }
    },
    {
      "cell_type": "markdown",
      "source": [
        "## PHP (1995)\n",
        "\n",
        "- **Criador:** Rasmus Lerdorf\n",
        "- **Origem:** Inicialmente \"Personal Home Page Tools,\" posteriormente \"PHP: Hypertext Preprocessor.\"\n",
        "- **Propósito:** Desenvolvimento web do lado do servidor.\n",
        "- **Relevância Histórica:**\n",
        "  - Amplamente usado para criar páginas web dinâmicas.\n",
        "  - Integração com bancos de dados, como MySQL, facilitando a interação com dados.\n",
        "- **Exemplos de Uso:**\n",
        "  - WordPress, Joomla e Drupal foram construídos usando PHP.\n",
        "  - Presente em muitos sistemas de gerenciamento de conteúdo e aplicações web.\n",
        "- **Observações:**\n",
        "  - Originalmente uma linguagem de script, evoluiu para suportar programação orientada a objetos.\n",
        "  - Contribuição significativa para o desenvolvimento da web dinâmica.\n",
        "\n",
        "Este slide adiciona informações específicas sobre PHP à apresentação, destacando seu papel crucial no desenvolvimento web."
      ],
      "metadata": {
        "id": "89kD0tc1GHvE"
      }
    },
    {
      "cell_type": "markdown",
      "source": [
        "## Java (1995)\n",
        "\n",
        "- **Criadores:** Equipe liderada por James Gosling na Sun Microsystems.\n",
        "- **Objetivo Inicial:**\n",
        "  - Desenvolvida para dispositivos eletrônicos e set-top boxes.\n",
        "  - \"Write Once, Run Anywhere\" - foco em portabilidade.\n",
        "- **Características Principais:**\n",
        "  - Máquina Virtual Java (JVM) permite execução em diferentes plataformas.\n",
        "  - Suporte a programação orientada a objetos e tratamento explícito de erros.\n",
        "- **Relevância Histórica:**\n",
        "  - Ubíqua em desenvolvimento corporativo, especialmente em servidores.\n",
        "  - Ampla utilização no desenvolvimento de aplicações para dispositivos móveis Android.\n",
        "- **Exemplos de Uso:**\n",
        "  - Desenvolvimento de aplicações empresariais, sistemas de backend e aplicativos Android.\n",
        "  - Presente em sistemas embarcados e dispositivos móveis.\n",
        "- **Legado:**\n",
        "  - Influenciou outras linguagens, como C#.\n",
        "  - Continua sendo uma das linguagens mais usadas no mundo.\n",
        "- **Curiosidade:**\n",
        "  - Java é uma linguagem de programação e uma plataforma.\n",
        "\n",
        "Este slide destaca a versatilidade e ubiquidade do Java, sua ênfase em portabilidade, bem como sua influência significativa no desenvolvimento de aplicações empresariais e móveis."
      ],
      "metadata": {
        "id": "s-y1BF8qGxTm"
      }
    },
    {
      "cell_type": "markdown",
      "source": [
        "## Ruby (1995)\n",
        "\n",
        "- **Criador:** Yukihiro \"Matz\" Matsumoto.\n",
        "- **Filosofia:**\n",
        "  - Foco na felicidade do desenvolvedor e na simplicidade.\n",
        "  - \"Matz is nice, so we are nice\" - Comunidade amigável.\n",
        "- **Características Principais:**\n",
        "  - Linguagem dinâmica e orientada a objetos.\n",
        "  - Ênfase em legibilidade e produtividade.\n",
        "- **Relevância Histórica:**\n",
        "  - Ganhou popularidade com o framework web Ruby on Rails.\n",
        "  - Amplamente adotada em desenvolvimento web e automação.\n",
        "- **Exemplos de Uso:**\n",
        "  - Desenvolvimento de aplicações web, automação de tarefas e scripts.\n",
        "  - Ruby on Rails para construção rápida de aplicações web.\n",
        "- **Legado:**\n",
        "  - Inspirou outras linguagens, como Python e Elixir.\n",
        "  - Contribuiu para a ênfase em frameworks ágeis de desenvolvimento.\n",
        "- **Curiosidade:**\n",
        "  - Conhecida por sua elegância e expressividade.\n",
        "\n",
        "Este slide destaca a abordagem centrada no desenvolvedor do Ruby, sua popularidade no desenvolvimento web, especialmente com o Ruby on Rails, e sua influência no design de linguagens de programação modernas."
      ],
      "metadata": {
        "id": "f9V7TPA2HF3k"
      }
    },
    {
      "cell_type": "markdown",
      "source": [
        "## JavaScript (1995)\n",
        "\n",
        "- **Criador:** Brendan Eich na Netscape.\n",
        "- **Origem:**\n",
        "  - Desenvolvida para tornar páginas web interativas no navegador Netscape.\n",
        "  - Nome inicialmente Mocha, depois LiveScript e finalmente JavaScript.\n",
        "- **Características Principais:**\n",
        "  - Linguagem de script interpretada, orientada a objetos e baseada em protótipos.\n",
        "  - Fundamental para o desenvolvimento de páginas web dinâmicas.\n",
        "- **Relevância Histórica:**\n",
        "  - Essencial para o desenvolvimento web, permitindo interatividade do lado do cliente.\n",
        "  - Padrão em todos os navegadores modernos.\n",
        "- **Exemplos de Uso:**\n",
        "  - Manipulação de DOM, interações assíncronas e validações em páginas web.\n",
        "  - Amplamente usado em frameworks como React, Angular e Vue.js.\n",
        "- **Legado:**\n",
        "  - Evoluiu para uma linguagem de propósito geral.\n",
        "  - Node.js permite execução no lado do servidor.\n",
        "- **Curiosidade:**\n",
        "  - Não tem relação direta com a linguagem de programação Java.\n",
        "\n",
        "Este slide destaca a importância do JavaScript no desenvolvimento web, sua evolução para uma linguagem versátil, e seu papel crucial no ecossistema de tecnologias web modernas."
      ],
      "metadata": {
        "id": "54o43JFpHnsH"
      }
    }
  ]
}