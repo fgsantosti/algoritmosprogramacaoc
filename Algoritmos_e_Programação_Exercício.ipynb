{
  "nbformat": 4,
  "nbformat_minor": 0,
  "metadata": {
    "colab": {
      "provenance": [],
      "authorship_tag": "ABX9TyOlbLhTKkr7Enn2b1JkVjrM",
      "include_colab_link": true
    },
    "kernelspec": {
      "name": "python3",
      "display_name": "Python 3"
    },
    "language_info": {
      "name": "python"
    }
  },
  "cells": [
    {
      "cell_type": "markdown",
      "metadata": {
        "id": "view-in-github",
        "colab_type": "text"
      },
      "source": [
        "<a href=\"https://colab.research.google.com/github/fgsantosti/algoritmosprogramacaoc/blob/main/Algoritmos_e_Programa%C3%A7%C3%A3o_Exerc%C3%ADcio.ipynb\" target=\"_parent\"><img src=\"https://colab.research.google.com/assets/colab-badge.svg\" alt=\"Open In Colab\"/></a>"
      ]
    },
    {
      "cell_type": "markdown",
      "source": [
        "**Questão de Algoritmos e Programação (Linguagem C): Sistema \"ADS Bank\"**\n",
        "\n",
        "Você foi contratado pelo curso de Análise e Desenvolvimento de Sistemas para desenvolver o sistema \"ADS Bank\". Este sistema deverá atender a duas categorias de usuários: gerente e cliente.\n",
        "\n",
        "### Requisitos do Sistema:\n",
        "\n",
        "1. **Funcionalidades para o Gerente:**\n",
        "   - Inserir cliente (com nome, CPF, e saldo inicial).\n",
        "   - Listar todos os clientes.\n",
        "   - Alterar saldo do cliente.\n",
        "   - Alterar CPF do cliente.\n",
        "   - Alterar nome do cliente.\n",
        "   - Excluir cliente.\n",
        "\n",
        "2. **Funcionalidades para o Cliente:**\n",
        "   - Visualizar saldo.\n",
        "   - Depositar valor na conta.\n",
        "   - Sacar valor da conta.\n",
        "   - Transferir valor para outra conta.\n",
        "\n",
        "### Instruções para Implementação:\n",
        "\n",
        "- Desenvolva o código em linguagem C, aplicando conceitos de modularização e uso adequado de estruturas de dados.\n",
        "- Documente seu código com comentários explicativos sobre cada funcionalidade implementada.\n",
        "- Realize um pequeno vídeo (de até 5 minutos) explicando o funcionamento do código, destacando as principais funcionalidades do sistema.\n",
        "- Crie um repositório no GitHub para o seu projeto. Adicione um arquivo `README.md` que contenha:\n",
        "  - Uma breve descrição do sistema e suas funcionalidades.\n",
        "  - Instruções de como compilar e executar o código.\n",
        "  - O link para o vídeo explicativo.\n",
        "\n",
        "### Avaliação:\n",
        "\n",
        "A sua solução será avaliada com base nos seguintes critérios:\n",
        "- Correção do código e funcionalidades.\n",
        "- Organização e clareza do código-fonte.\n",
        "- Qualidade da documentação (comentários e README).\n",
        "- Apresentação no vídeo explicativo.\n",
        "\n",
        "Data de entrega: 30/08/2024.\n",
        "\n",
        "**Boa sorte!**"
      ],
      "metadata": {
        "id": "o6dVgM0QBJ3x"
      }
    }
  ]
}